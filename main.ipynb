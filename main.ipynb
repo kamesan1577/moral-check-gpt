{
 "cells": [
  {
   "attachments": {},
   "cell_type": "markdown",
   "metadata": {},
   "source": [
    "### 入力した文章が不適切かどうか判定して表示するプログラム\n",
    "\n",
    "- OpenAI の Moderation API を使用\n",
    "- API の仕様上、英語以外にはうまく対応してないっぽいので、英語に翻訳してから判定することも可能\n"
   ]
  },
  {
   "cell_type": "code",
   "execution_count": 1,
   "metadata": {},
   "outputs": [],
   "source": [
    "import endpoint\n",
    "import pandas as pd\n",
    "import matplotlib.pyplot as plt\n",
    "\n",
    "def get_moral_df(msg,en=False):\n",
    "    #en=Trueの場合はChatCompletionを使って翻訳する\n",
    "    if en:\n",
    "        res_msg,res_data = endpoint.get_moderation_after_translate(msg)\n",
    "    else:\n",
    "        res_msg,res_data = endpoint.get_moderation(msg)\n",
    "    categoriy_flags = res_data[\"categories\"]\n",
    "    categoriy_scores = res_data[\"category_scores\"]\n",
    "    # コメントアウトを外すとJSONの中身を確認できる\n",
    "    # display(categoriy_flags)\n",
    "    # display(categoriy_scores)\n",
    "\n",
    "    # 別にdfである必要はないが、可視化のためにdfにしておく\n",
    "    df_f = pd.DataFrame(pd.json_normalize(categoriy_flags))\n",
    "    df_s = pd.DataFrame(pd.json_normalize(categoriy_scores))\n",
    "    return (res_msg,df_f,df_s)"
   ]
  },
  {
   "attachments": {},
   "cell_type": "markdown",
   "metadata": {},
   "source": [
    "#### msg に判定したい文章を入れる\n"
   ]
  },
  {
   "cell_type": "code",
   "execution_count": 2,
   "metadata": {},
   "outputs": [],
   "source": [
    "msg = \"中身長…？普通に低身長ですやん\"\n",
    "msg_jp,df_jp_f,df_jp_s = get_moral_df(msg)\n",
    "#翻訳はここで実行されるたびに結果が変わるので注意（ChatGPTくんにやらせているため）\n",
    "msg_en,df_en_f,df_en_s = get_moral_df(msg,en=True)"
   ]
  },
  {
   "cell_type": "code",
   "execution_count": 3,
   "metadata": {},
   "outputs": [
    {
     "data": {
      "text/html": [
       "<div>\n",
       "<style scoped>\n",
       "    .dataframe tbody tr th:only-of-type {\n",
       "        vertical-align: middle;\n",
       "    }\n",
       "\n",
       "    .dataframe tbody tr th {\n",
       "        vertical-align: top;\n",
       "    }\n",
       "\n",
       "    .dataframe thead th {\n",
       "        text-align: right;\n",
       "    }\n",
       "</style>\n",
       "<table border=\"1\" class=\"dataframe\">\n",
       "  <thead>\n",
       "    <tr style=\"text-align: right;\">\n",
       "      <th></th>\n",
       "      <th>sexual</th>\n",
       "      <th>hate</th>\n",
       "      <th>harassment</th>\n",
       "      <th>self-harm</th>\n",
       "      <th>sexual/minors</th>\n",
       "      <th>hate/threatening</th>\n",
       "      <th>violence/graphic</th>\n",
       "      <th>self-harm/intent</th>\n",
       "      <th>self-harm/instructions</th>\n",
       "      <th>harassment/threatening</th>\n",
       "      <th>violence</th>\n",
       "    </tr>\n",
       "  </thead>\n",
       "  <tbody>\n",
       "    <tr>\n",
       "      <th>0</th>\n",
       "      <td>False</td>\n",
       "      <td>False</td>\n",
       "      <td>False</td>\n",
       "      <td>False</td>\n",
       "      <td>False</td>\n",
       "      <td>False</td>\n",
       "      <td>False</td>\n",
       "      <td>False</td>\n",
       "      <td>False</td>\n",
       "      <td>False</td>\n",
       "      <td>False</td>\n",
       "    </tr>\n",
       "  </tbody>\n",
       "</table>\n",
       "</div>"
      ],
      "text/plain": [
       "   sexual   hate  harassment  self-harm  sexual/minors  hate/threatening  \\\n",
       "0   False  False       False      False          False             False   \n",
       "\n",
       "   violence/graphic  self-harm/intent  self-harm/instructions  \\\n",
       "0             False             False                   False   \n",
       "\n",
       "   harassment/threatening  violence  \n",
       "0                   False     False  "
      ]
     },
     "metadata": {},
     "output_type": "display_data"
    },
    {
     "data": {
      "text/html": [
       "<div>\n",
       "<style scoped>\n",
       "    .dataframe tbody tr th:only-of-type {\n",
       "        vertical-align: middle;\n",
       "    }\n",
       "\n",
       "    .dataframe tbody tr th {\n",
       "        vertical-align: top;\n",
       "    }\n",
       "\n",
       "    .dataframe thead th {\n",
       "        text-align: right;\n",
       "    }\n",
       "</style>\n",
       "<table border=\"1\" class=\"dataframe\">\n",
       "  <thead>\n",
       "    <tr style=\"text-align: right;\">\n",
       "      <th></th>\n",
       "      <th>sexual</th>\n",
       "      <th>hate</th>\n",
       "      <th>harassment</th>\n",
       "      <th>self-harm</th>\n",
       "      <th>sexual/minors</th>\n",
       "      <th>hate/threatening</th>\n",
       "      <th>violence/graphic</th>\n",
       "      <th>self-harm/intent</th>\n",
       "      <th>self-harm/instructions</th>\n",
       "      <th>harassment/threatening</th>\n",
       "      <th>violence</th>\n",
       "    </tr>\n",
       "  </thead>\n",
       "  <tbody>\n",
       "    <tr>\n",
       "      <th>0</th>\n",
       "      <td>0.000229</td>\n",
       "      <td>0.003814</td>\n",
       "      <td>0.013523</td>\n",
       "      <td>0.000019</td>\n",
       "      <td>4.122964e-07</td>\n",
       "      <td>0.000001</td>\n",
       "      <td>0.000005</td>\n",
       "      <td>0.000031</td>\n",
       "      <td>0.000025</td>\n",
       "      <td>0.000015</td>\n",
       "      <td>0.000016</td>\n",
       "    </tr>\n",
       "  </tbody>\n",
       "</table>\n",
       "</div>"
      ],
      "text/plain": [
       "     sexual      hate  harassment  self-harm  sexual/minors  hate/threatening  \\\n",
       "0  0.000229  0.003814    0.013523   0.000019   4.122964e-07          0.000001   \n",
       "\n",
       "   violence/graphic  self-harm/intent  self-harm/instructions  \\\n",
       "0          0.000005          0.000031                0.000025   \n",
       "\n",
       "   harassment/threatening  violence  \n",
       "0                0.000015  0.000016  "
      ]
     },
     "metadata": {},
     "output_type": "display_data"
    },
    {
     "data": {
      "text/html": [
       "<div>\n",
       "<style scoped>\n",
       "    .dataframe tbody tr th:only-of-type {\n",
       "        vertical-align: middle;\n",
       "    }\n",
       "\n",
       "    .dataframe tbody tr th {\n",
       "        vertical-align: top;\n",
       "    }\n",
       "\n",
       "    .dataframe thead th {\n",
       "        text-align: right;\n",
       "    }\n",
       "</style>\n",
       "<table border=\"1\" class=\"dataframe\">\n",
       "  <thead>\n",
       "    <tr style=\"text-align: right;\">\n",
       "      <th></th>\n",
       "      <th>sexual</th>\n",
       "      <th>hate</th>\n",
       "      <th>harassment</th>\n",
       "      <th>self-harm</th>\n",
       "      <th>sexual/minors</th>\n",
       "      <th>hate/threatening</th>\n",
       "      <th>violence/graphic</th>\n",
       "      <th>self-harm/intent</th>\n",
       "      <th>self-harm/instructions</th>\n",
       "      <th>harassment/threatening</th>\n",
       "      <th>violence</th>\n",
       "    </tr>\n",
       "  </thead>\n",
       "  <tbody>\n",
       "    <tr>\n",
       "      <th>0</th>\n",
       "      <td>False</td>\n",
       "      <td>False</td>\n",
       "      <td>False</td>\n",
       "      <td>False</td>\n",
       "      <td>False</td>\n",
       "      <td>False</td>\n",
       "      <td>False</td>\n",
       "      <td>False</td>\n",
       "      <td>False</td>\n",
       "      <td>False</td>\n",
       "      <td>False</td>\n",
       "    </tr>\n",
       "  </tbody>\n",
       "</table>\n",
       "</div>"
      ],
      "text/plain": [
       "   sexual   hate  harassment  self-harm  sexual/minors  hate/threatening  \\\n",
       "0   False  False       False      False          False             False   \n",
       "\n",
       "   violence/graphic  self-harm/intent  self-harm/instructions  \\\n",
       "0             False             False                   False   \n",
       "\n",
       "   harassment/threatening  violence  \n",
       "0                   False     False  "
      ]
     },
     "metadata": {},
     "output_type": "display_data"
    },
    {
     "data": {
      "text/html": [
       "<div>\n",
       "<style scoped>\n",
       "    .dataframe tbody tr th:only-of-type {\n",
       "        vertical-align: middle;\n",
       "    }\n",
       "\n",
       "    .dataframe tbody tr th {\n",
       "        vertical-align: top;\n",
       "    }\n",
       "\n",
       "    .dataframe thead th {\n",
       "        text-align: right;\n",
       "    }\n",
       "</style>\n",
       "<table border=\"1\" class=\"dataframe\">\n",
       "  <thead>\n",
       "    <tr style=\"text-align: right;\">\n",
       "      <th></th>\n",
       "      <th>sexual</th>\n",
       "      <th>hate</th>\n",
       "      <th>harassment</th>\n",
       "      <th>self-harm</th>\n",
       "      <th>sexual/minors</th>\n",
       "      <th>hate/threatening</th>\n",
       "      <th>violence/graphic</th>\n",
       "      <th>self-harm/intent</th>\n",
       "      <th>self-harm/instructions</th>\n",
       "      <th>harassment/threatening</th>\n",
       "      <th>violence</th>\n",
       "    </tr>\n",
       "  </thead>\n",
       "  <tbody>\n",
       "    <tr>\n",
       "      <th>0</th>\n",
       "      <td>4.228812e-07</td>\n",
       "      <td>0.00016</td>\n",
       "      <td>0.003556</td>\n",
       "      <td>2.116575e-09</td>\n",
       "      <td>8.348712e-10</td>\n",
       "      <td>2.411473e-11</td>\n",
       "      <td>3.523169e-08</td>\n",
       "      <td>3.138589e-09</td>\n",
       "      <td>4.071240e-08</td>\n",
       "      <td>9.862846e-07</td>\n",
       "      <td>1.162712e-07</td>\n",
       "    </tr>\n",
       "  </tbody>\n",
       "</table>\n",
       "</div>"
      ],
      "text/plain": [
       "         sexual     hate  harassment     self-harm  sexual/minors  \\\n",
       "0  4.228812e-07  0.00016    0.003556  2.116575e-09   8.348712e-10   \n",
       "\n",
       "   hate/threatening  violence/graphic  self-harm/intent  \\\n",
       "0      2.411473e-11      3.523169e-08      3.138589e-09   \n",
       "\n",
       "   self-harm/instructions  harassment/threatening      violence  \n",
       "0            4.071240e-08            9.862846e-07  1.162712e-07  "
      ]
     },
     "metadata": {},
     "output_type": "display_data"
    }
   ],
   "source": [
    "display(df_jp_f)\n",
    "display(df_jp_s)\n",
    "display(df_en_f)\n",
    "display(df_en_s)"
   ]
  },
  {
   "attachments": {},
   "cell_type": "markdown",
   "metadata": {},
   "source": [
    "#### グラフのプロット\n"
   ]
  },
  {
   "cell_type": "code",
   "execution_count": 4,
   "metadata": {},
   "outputs": [
    {
     "name": "stdout",
     "output_type": "stream",
     "text": [
      "Original:中身長…？普通に低身長ですやん\n",
      "Translated:How tall are you? You're just short.\n"
     ]
    },
    {
     "name": "stderr",
     "output_type": "stream",
     "text": [
      "/tmp/ipykernel_1302302/137831274.py:8: UserWarning: FixedFormatter should only be used together with FixedLocator\n",
      "  ax1.set_xticklabels(df_jp_s.iloc[0])\n",
      "/tmp/ipykernel_1302302/137831274.py:12: UserWarning: FixedFormatter should only be used together with FixedLocator\n",
      "  ax2.set_xticklabels(df_en_s.iloc[0])\n"
     ]
    },
    {
     "data": {
      "image/png": "[encoded data removed]",
      "text/plain": [
       "<Figure size 1000x500 with 2 Axes>"
      ]
     },
     "metadata": {},
     "output_type": "display_data"
    }
   ],
   "source": [
    "print(f\"Original:{msg_jp}\")\n",
    "print(f\"Translated:{msg_en}\")\n",
    "\n",
    "#TODO 指数表記が見づらいのでわかりやすい表記にする\n",
    "fig, (ax1, ax2) = plt.subplots(2,1,sharex=\"all\", figsize=(10, 5))\n",
    "\n",
    "ax1.barh(df_jp_s.columns,df_jp_s.iloc[0])\n",
    "ax1.set_xticklabels(df_jp_s.iloc[0])\n",
    "ax1.set_title('Japanese')\n",
    "\n",
    "ax2.barh(df_en_s.columns,df_en_s.iloc[0])\n",
    "ax2.set_xticklabels(df_en_s.iloc[0])\n",
    "ax2.set_title('English')\n",
    "\n",
    "plt.show()"
   ]
  }
 ],
 "metadata": {
  "kernelspec": {
   "display_name": "Python 3",
   "language": "python",
   "name": "python3"
  },
  "language_info": {
   "codemirror_mode": {
    "name": "ipython",
    "version": 3
   },
   "file_extension": ".py",
   "mimetype": "text/x-python",
   "name": "python",
   "nbconvert_exporter": "python",
   "pygments_lexer": "ipython3",
   "version": "3.10.6"
  },
  "orig_nbformat": 4
 },
 "nbformat": 4,
 "nbformat_minor": 2
}
